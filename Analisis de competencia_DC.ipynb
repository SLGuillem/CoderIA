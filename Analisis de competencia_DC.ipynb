{
 "cells": [
  {
   "cell_type": "code",
   "execution_count": 30,
   "id": "12e46b34-ce66-430a-b437-337ac1d8fc77",
   "metadata": {},
   "outputs": [],
   "source": [
    "import openai\n",
    "import os\n"
   ]
  },
  {
   "cell_type": "code",
   "execution_count": 57,
   "id": "340efe5e-49b9-4a09-8df3-0d7ed4a805e8",
   "metadata": {},
   "outputs": [],
   "source": [
    "openai.api_key = os.getenv(\"OPENAI_API_KEY\")"
   ]
  },
  {
   "cell_type": "code",
   "execution_count": 83,
   "id": "ea989864-e4d0-4ba6-937e-8841858b6c97",
   "metadata": {},
   "outputs": [],
   "source": [
    "CONTEXT = \"\"\" Eres un abogado especialista en defensa del consumidor en Argentina, específicamente en el partido de Vicente López. Tu tarea principal es determinar la competencia territorial y material en reclamos de consumidores, basándote en la Ley de Defensa del Consumidor (Ley 24.240 y sus modificatorias) y el Código Civil y Comercial de la Nación, así como en la jurisprudencia aplicable. \n",
    "\n",
    "Debes considerar los siguientes criterios principales: \n",
    "\n",
    "Competencia Territorial: En general, la competencia recae en la Dirección de Defensa del Consumidor del lugar de celebración del contrato cuando es presencial, lugar de prestación de servicio o en caso de compras virtuales, el domicilio del consumidor o lugar de entrega. También puede ser el lugar de celebración del contrato, el lugar de cumplimiento de la obligación, o el lugar donde ocurrió el hecho.  \n",
    "\n",
    "Competencia Material: Evalúa si el reclamo se enmarca dentro de una relación de consumo (adquisición o uso de bienes o servicios para consumo final) y si la materia es propia del derecho del consumidor, excluyendo, por ejemplo, cuestiones laborales o de familia puras que no involucren una relación de consumo y aquellas en dónde el rol de proveedor se vincule a una profesión con título universitario y matrícula habilitante \n",
    "\n",
    "Tu respuesta debe indicar claramente si hay competencia, no la hay, o si se necesita más información, justificando brevemente tu conclusión con base en los criterios mencionados. \"\"\" "
   ]
  },
  {
   "cell_type": "code",
   "execution_count": 87,
   "id": "6ba4f4cb-a23f-4191-ae1a-5788b874bfa3",
   "metadata": {},
   "outputs": [
    {
     "name": "stdout",
     "output_type": "stream",
     "text": [
      "--- Análisis de Competencia: Caso 1 (Con Competencia) ---\n",
      "Error al comunicarse con OpenAI: No API key provided. You can set your API key in code using 'openai.api_key = <API-KEY>', or you can set the environment variable OPENAI_API_KEY=<API-KEY>). If your API key is stored in a file, you can point the openai module at it with 'openai.api_key_path = <PATH>'. You can generate API keys in the OpenAI web interface. See https://platform.openai.com/account/api-keys for details.\n",
      "Error en la consulta al servicio de IA para el análisis de competencia.\n",
      "\n",
      "==================================================\n",
      "\n",
      "--- Análisis de Competencia: Caso 2 (Sin Competencia Material) ---\n",
      "Error al comunicarse con OpenAI: No API key provided. You can set your API key in code using 'openai.api_key = <API-KEY>', or you can set the environment variable OPENAI_API_KEY=<API-KEY>). If your API key is stored in a file, you can point the openai module at it with 'openai.api_key_path = <PATH>'. You can generate API keys in the OpenAI web interface. See https://platform.openai.com/account/api-keys for details.\n",
      "Error en la consulta al servicio de IA para el análisis de competencia.\n",
      "\n",
      "==================================================\n",
      "\n",
      "--- Análisis de Competencia: Caso 3 (Requiere Más Información) ---\n",
      "Error al comunicarse con OpenAI: No API key provided. You can set your API key in code using 'openai.api_key = <API-KEY>', or you can set the environment variable OPENAI_API_KEY=<API-KEY>). If your API key is stored in a file, you can point the openai module at it with 'openai.api_key_path = <PATH>'. You can generate API keys in the OpenAI web interface. See https://platform.openai.com/account/api-keys for details.\n",
      "Error en la consulta al servicio de IA para el análisis de competencia.\n"
     ]
    }
   ],
   "source": [
    " \n",
    "\n",
    " # --- Ejemplo 1: Caso con competencia clara --- print(\"--- Análisis de Competencia: Caso 1 (Con Competencia) ---\") reclamo_ejemplo_1 = \"\"\" Un consumidor de Vicente López (domicilio real) compró una heladera online a una tienda de electrodomésticos con sede en Capital Federal. La heladera llegó defectuosa. El consumidor quiere iniciar un reclamo en Vicente López. \"\"\" resultado_1 = analizar_competencia_consumidor(reclamo_ejemplo_1) print(resultado_1) # Resultado esperado: Competencia: SI, Justificación: El domicilio real del consumidor es Vicente López, lo que otorga competencia territorial según la Ley 24.240. La compra de una heladera constituye una relación de consumo. \n",
    "print(\"--- Análisis de Competencia: Caso 1 (Con Competencia) ---\")\n",
    "reclamo_ejemplo_1 = \"\"\"\n",
    "Un consumidor de Vicente López (domicilio real) compró una heladera online a una tienda de electrodomésticos con sede en Capital Federal. \n",
    "La heladera llegó defectuosa. El consumidor quiere iniciar un reclamo en Vicente López.\n",
    "\"\"\"\n",
    "resultado_1 = analizar_competencia_consumidor(reclamo_ejemplo_1)\n",
    "print(resultado_1)\n",
    "\n",
    "print(\"\\n\" + \"=\"*50 + \"\\n\") \n",
    " \n",
    "# --- Ejemplo 2: Caso sin competencia material (no es de consumo) --- \n",
    "print(\"--- Análisis de Competencia: Caso 2 (Sin Competencia Material) ---\") \n",
    "reclamo_ejemplo_2 = \"\"\" \n",
    "Una persona de San Isidro tuvo un problema con su contrato laboral con su empleador, \n",
    "una empresa de logística. Quiere saber si puede iniciar un reclamo en defensa del consumidor. \n",
    "\"\"\" \n",
    "resultado_2 = analizar_competencia_consumidor(reclamo_ejemplo_2) \n",
    "print(resultado_2) \n",
    "# Resultado esperado: Competencia: NO, Justificación: La descripción del caso indica un conflicto laboral, el cual no se enmarca dentro de una relación de consumo regulada por la Ley de Defensa del Consumidor. \n",
    " \n",
    "print(\"\\n\" + \"=\"*50 + \"\\n\") \n",
    " \n",
    "# --- Ejemplo 3: Caso que requiere más información --- \n",
    "print(\"--- Análisis de Competencia: Caso 3 (Requiere Más Información) ---\") \n",
    "reclamo_ejemplo_3 = \"\"\" \n",
    "Un cliente tuvo un problema con un servicio que contrató. Necesita saber dónde puede reclamar. \n",
    "\"\"\" \n",
    "resultado_3 = analizar_competencia_consumidor(reclamo_ejemplo_3) \n",
    "print(resultado_3) \n",
    "# Resultado esperado: Competencia: REQUIERE_MAS_INFORMACION, Justificación: Faltan datos clave como el domicilio del consumidor, el domicilio del proveedor o el lugar de contratación/cumplimiento para determinar la competencia territorial. También falta la naturaleza exacta del servicio para confirmar la competencia material. \n",
    " "
   ]
  },
  {
   "cell_type": "code",
   "execution_count": null,
   "id": "3a93c4b6-de51-47ef-bc3c-b44d2d9cc495",
   "metadata": {},
   "outputs": [],
   "source": [
    "from google import genai\n",
    "from google.genai import types\n",
    "from PIL import Image\n",
    "from io import BytesIO\n",
    "\n",
    "client = genai.Client(api_key=\"\")\n",
    "\n",
    "texto_imagen = \"\"\"\n",
    "Un diseño corporativo y minimalista que incluya la frase 'Gracias por usar este servicio' centrada en la imagen.\n",
    "El fondo debe ser limpio, blanco o gris claro, con el texto en gris oscuro o azul marino, utilizando una tipografía sans-serif moderna.\n",
    "Sin elementos decorativos llamativos; solo una composición equilibrada y elegante.\n",
    "Opcionalmente, puede incluir una forma abstracta sutil o líneas finas como detalle visual.\n",
    "El estilo debe ser limpio, moderno y adecuado para comunicaciones empresariales o tecnológicas.\n",
    "\"\"\"\n",
    "\n",
    "contenido = texto_imagen\n",
    "\n",
    "respuesta = client.models.generate_content(\n",
    "    model=\"gemini-2.0-flash-preview-image-generation\",\n",
    "    contents=contenido,\n",
    "    config=types.GenerateContentConfig(\n",
    "        response_modalities=['TEXT', 'IMAGE']\n",
    "    )\n",
    ")\n",
    "\n",
    "for parte in respuesta.candidates[0].content.parts:\n",
    "    if parte.text is not None:\n",
    "        print(parte.text)\n",
    "    elif parte.inline_data is not None:\n",
    "        imagen = Image.open(BytesIO(parte.inline_data.data))\n",
    "        imagen.save('gracias_servicio.png')\n",
    "        imagen.show()"
   ]
  }
 ],
 "metadata": {
  "kernelspec": {
   "display_name": "Python 3 (ipykernel)",
   "language": "python",
   "name": "python3"
  },
  "language_info": {
   "codemirror_mode": {
    "name": "ipython",
    "version": 3
   },
   "file_extension": ".py",
   "mimetype": "text/x-python",
   "name": "python",
   "nbconvert_exporter": "python",
   "pygments_lexer": "ipython3",
   "version": "3.10.16"
  }
 },
 "nbformat": 4,
 "nbformat_minor": 5
}
